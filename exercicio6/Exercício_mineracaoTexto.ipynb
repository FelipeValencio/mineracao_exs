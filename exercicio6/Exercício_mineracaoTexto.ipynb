{
 "cells": [
  {
   "cell_type": "markdown",
   "metadata": {},
   "source": [
    "## Lista 7 - Exercício de Mineração de texto"
   ]
  },
  {
   "cell_type": "markdown",
   "metadata": {},
   "source": [
    "#### Questão 1 \n",
    "\n",
    "Use o dataset \"tweets_trump.csv\", que contém todos os tweets do D. Trump e faça o que é pedido abaixo.\n",
    "\n",
    "a) Utilizando o texto dos tweets identifique 5 tópicos latentes com o LDA, com um preprocessamento básico -- remoção de urls, remoção de pontuação, stemming e conversão para minúsculo. \n",
    "\n",
    "b) Avalie os tópicos encontrados. Algum preprocessamento a mais poderia ser útil para a produção de um melhor resultado?\n"
   ]
  },
  {
   "metadata": {
    "ExecuteTime": {
     "end_time": "2024-05-19T19:20:47.104514Z",
     "start_time": "2024-05-19T19:20:47.102379Z"
    }
   },
   "cell_type": "code",
   "source": [
    "import pandas as pd\n",
    "import re\n",
    "import string"
   ],
   "outputs": [],
   "execution_count": 43
  },
  {
   "metadata": {
    "ExecuteTime": {
     "end_time": "2024-05-19T20:07:20.560122Z",
     "start_time": "2024-05-19T20:07:20.460522Z"
    }
   },
   "cell_type": "code",
   "source": [
    "# Importar arquivo\n",
    "dfTweets= pd.read_csv(\"tweets_trump.csv\")\n",
    "tweets = dfTweets['text']\n",
    "tweets[0]"
   ],
   "outputs": [
    {
     "data": {
      "text/plain": [
       "'Republicans and Democrats have both created our economic problems.'"
      ]
     },
     "execution_count": 80,
     "metadata": {},
     "output_type": "execute_result"
    }
   ],
   "execution_count": 80
  },
  {
   "metadata": {
    "ExecuteTime": {
     "end_time": "2024-05-19T20:07:26.851846Z",
     "start_time": "2024-05-19T20:07:22.103430Z"
    }
   },
   "cell_type": "code",
   "source": [
    "# Remover URLS\n",
    "url_pattern = r'http[s]?://\\S+'\n",
    "tweets = tweets[~tweets.str.match(url_pattern)]\n",
    "tweets = tweets.apply(lambda x: re.sub(url_pattern, '', x))\n",
    "\n",
    "# Converter para minúsculo\n",
    "tweets = tweets.str.lower()\n",
    "\n",
    "# remover pontuação\n",
    "PONTUACAO = string.punctuation\n",
    "def remove_pontuacao(text):\n",
    "    return text.translate(str.maketrans('', '', PONTUACAO))\n",
    "\n",
    "tweets = tweets.apply(lambda text: remove_pontuacao(text))\n",
    "\n",
    "# Remover stop words\n",
    "from nltk.corpus import stopwords\n",
    "\n",
    "STOPWORDS = set(stopwords.words('english'))\n",
    "def remove_stopwords(text):\n",
    "    return \" \".join([word for word in str(text).split() if word not in STOPWORDS])\n",
    "\n",
    "tweets = tweets.apply(lambda text: remove_stopwords(text))\n",
    "\n",
    "# Stemming\n",
    "from nltk.stem.porter import PorterStemmer\n",
    "\n",
    "stemmer = PorterStemmer()\n",
    "def stem_words(text):\n",
    "    return \" \".join([stemmer.stem(word) for word in text.split()])\n",
    "\n",
    "tweets = tweets.apply(lambda text: stem_words(text))\n",
    "\n",
    "tweets"
   ],
   "outputs": [
    {
     "data": {
      "text/plain": [
       "0                 republican democrat creat econom problem\n",
       "1        thrill back great citi charlott north carolina...\n",
       "2        rt cbsherridg read letter surveil court obtain...\n",
       "3        unsolicit mail ballot scam major threat democr...\n",
       "4        rt mzhemingway friendli tell event comey appar...\n",
       "                               ...                        \n",
       "56566    rt randpaul don’t know joebiden think continu ...\n",
       "56567    rt elisestefanik presid realdonaldtrump excel ...\n",
       "56568    rt teamtrump live presidenti debat debates2020...\n",
       "56569    sign order support worker delphi corpor make s...\n",
       "56570    suburban women want safeti amp secur joe biden...\n",
       "Name: text, Length: 55265, dtype: object"
      ]
     },
     "execution_count": 81,
     "metadata": {},
     "output_type": "execute_result"
    }
   ],
   "execution_count": 81
  },
  {
   "metadata": {
    "ExecuteTime": {
     "end_time": "2024-05-19T19:40:22.147108Z",
     "start_time": "2024-05-19T19:39:56.870611Z"
    }
   },
   "cell_type": "code",
   "source": [
    "from gensim.models.ldamodel import LdaModel\n",
    "from gensim.corpora.dictionary import Dictionary\n",
    "\n",
    "# Tópicos\n",
    "dataset_prep = [d.split() for d in tweets]\n",
    "dictionary_prep = Dictionary(dataset_prep)\n",
    "corpus_prep = [dictionary_prep.doc2bow(doc) for doc in dataset_prep]\n",
    "\n",
    "model_prep = LdaModel(corpus=corpus_prep, id2word=dictionary_prep, num_topics=5, iterations=100, passes=5,random_state=1)"
   ],
   "outputs": [],
   "execution_count": 57
  },
  {
   "metadata": {
    "ExecuteTime": {
     "end_time": "2024-05-19T19:40:24.855192Z",
     "start_time": "2024-05-19T19:40:24.850974Z"
    }
   },
   "cell_type": "code",
   "source": [
    "for i in model_prep.show_topics(num_topics=5, num_words=6, log=False):\n",
    "    print(i)\n",
    "    print('---')"
   ],
   "outputs": [
    {
     "name": "stdout",
     "output_type": "stream",
     "text": [
      "(0, '0.062*\"rt\" + 0.036*\"realdonaldtrump\" + 0.036*\"presid\" + 0.021*\"trump\" + 0.011*\"impeach\" + 0.010*\"hillari\"')\n",
      "---\n",
      "(1, '0.017*\"border\" + 0.016*\"us\" + 0.015*\"amp\" + 0.014*\"american\" + 0.013*\"countri\" + 0.011*\"state\"')\n",
      "---\n",
      "(2, '0.044*\"thank\" + 0.031*\"great\" + 0.022*\"trump\" + 0.020*\"realdonaldtrump\" + 0.016*\"rt\" + 0.010*\"donald\"')\n",
      "---\n",
      "(3, '0.027*\"great\" + 0.013*\"big\" + 0.012*\"get\" + 0.011*\"go\" + 0.010*\"make\" + 0.010*\"time\"')\n",
      "---\n",
      "(4, '0.020*\"news\" + 0.017*\"fake\" + 0.014*\"media\" + 0.012*\"report\" + 0.011*\"amp\" + 0.009*\"collu\"')\n",
      "---\n"
     ]
    }
   ],
   "execution_count": 58
  },
  {
   "metadata": {},
   "cell_type": "raw",
   "source": [
    "Um pré-processamento para remover palavras como \"rt\" quando indica um retweet melhoraria o resultado\n",
    "Também a remoção do nome de usuário realdonaltrump poderia trazer melhorias no resultado"
   ]
  },
  {
   "cell_type": "markdown",
   "metadata": {},
   "source": [
    "## Questão 2\n",
    "\n",
    "Use o dataset \"tweets_trump.csv\" e responda:\n",
    "\n",
    "a) Qual o sentimento dos 5 tweets com maior número de retweets?\n",
    "\n",
    "b) Faça uma análise do sentimento geral de todos os tweets. Para isso, visualize a distribuição de polaridade para embasar a sua resposta."
   ]
  },
  {
   "metadata": {
    "ExecuteTime": {
     "end_time": "2024-05-19T20:00:05.264582Z",
     "start_time": "2024-05-19T20:00:05.155470Z"
    }
   },
   "cell_type": "code",
   "source": [
    "# Importar arquivo\n",
    "dfTweets= pd.read_csv(\"tweets_trump.csv\")\n",
    "dfTweets"
   ],
   "outputs": [
    {
     "data": {
      "text/plain": [
       "                        id                                               text  \\\n",
       "0        98454970654916608  Republicans and Democrats have both created ou...   \n",
       "1      1234653427789070336  I was thrilled to be back in the Great city of...   \n",
       "2      1218010753434820614  RT @CBS_Herridge: READ: Letter to surveillance...   \n",
       "3      1304875170860015617  The Unsolicited Mail In Ballot Scam is a major...   \n",
       "4      1218159531554897920  RT @MZHemingway: Very friendly telling of even...   \n",
       "...                    ...                                                ...   \n",
       "56566  1319485303363571714  RT @RandPaul: I don’t know why @JoeBiden think...   \n",
       "56567  1319484210101379072  RT @EliseStefanik: President @realDonaldTrump ...   \n",
       "56568  1319444420861829121  RT @TeamTrump: LIVE: Presidential Debate #Deba...   \n",
       "56569  1319384118849949702  Just signed an order to support the workers of...   \n",
       "56570  1319345719829008387  Suburban women want Safety &amp; Security. Joe...   \n",
       "\n",
       "      isRetweet isDeleted              device  favorites  retweets  \\\n",
       "0             f         f           TweetDeck         49       255   \n",
       "1             f         f  Twitter for iPhone      73748     17404   \n",
       "2             t         f  Twitter for iPhone          0      7396   \n",
       "3             f         f  Twitter for iPhone      80527     23502   \n",
       "4             t         f  Twitter for iPhone          0      9081   \n",
       "...         ...       ...                 ...        ...       ...   \n",
       "56566         t         f  Twitter for iPhone          0     20683   \n",
       "56567         t         f  Twitter for iPhone          0      9869   \n",
       "56568         t         f  Twitter for iPhone          0      8197   \n",
       "56569         f         f  Twitter for iPhone     176289     36001   \n",
       "56570         f         f  Twitter for iPhone      95169     19545   \n",
       "\n",
       "                      date isFlagged  \n",
       "0      2011-08-02 18:07:48         f  \n",
       "1      2020-03-03 01:34:50         f  \n",
       "2      2020-01-17 03:22:47         f  \n",
       "3      2020-09-12 20:10:58         f  \n",
       "4      2020-01-17 13:13:59         f  \n",
       "...                    ...       ...  \n",
       "56566  2020-10-23 03:46:25         f  \n",
       "56567  2020-10-23 03:42:05         f  \n",
       "56568  2020-10-23 01:03:58         f  \n",
       "56569  2020-10-22 21:04:21         f  \n",
       "56570  2020-10-22 18:31:46         f  \n",
       "\n",
       "[56571 rows x 9 columns]"
      ],
      "text/html": [
       "<div>\n",
       "<style scoped>\n",
       "    .dataframe tbody tr th:only-of-type {\n",
       "        vertical-align: middle;\n",
       "    }\n",
       "\n",
       "    .dataframe tbody tr th {\n",
       "        vertical-align: top;\n",
       "    }\n",
       "\n",
       "    .dataframe thead th {\n",
       "        text-align: right;\n",
       "    }\n",
       "</style>\n",
       "<table border=\"1\" class=\"dataframe\">\n",
       "  <thead>\n",
       "    <tr style=\"text-align: right;\">\n",
       "      <th></th>\n",
       "      <th>id</th>\n",
       "      <th>text</th>\n",
       "      <th>isRetweet</th>\n",
       "      <th>isDeleted</th>\n",
       "      <th>device</th>\n",
       "      <th>favorites</th>\n",
       "      <th>retweets</th>\n",
       "      <th>date</th>\n",
       "      <th>isFlagged</th>\n",
       "    </tr>\n",
       "  </thead>\n",
       "  <tbody>\n",
       "    <tr>\n",
       "      <th>0</th>\n",
       "      <td>98454970654916608</td>\n",
       "      <td>Republicans and Democrats have both created ou...</td>\n",
       "      <td>f</td>\n",
       "      <td>f</td>\n",
       "      <td>TweetDeck</td>\n",
       "      <td>49</td>\n",
       "      <td>255</td>\n",
       "      <td>2011-08-02 18:07:48</td>\n",
       "      <td>f</td>\n",
       "    </tr>\n",
       "    <tr>\n",
       "      <th>1</th>\n",
       "      <td>1234653427789070336</td>\n",
       "      <td>I was thrilled to be back in the Great city of...</td>\n",
       "      <td>f</td>\n",
       "      <td>f</td>\n",
       "      <td>Twitter for iPhone</td>\n",
       "      <td>73748</td>\n",
       "      <td>17404</td>\n",
       "      <td>2020-03-03 01:34:50</td>\n",
       "      <td>f</td>\n",
       "    </tr>\n",
       "    <tr>\n",
       "      <th>2</th>\n",
       "      <td>1218010753434820614</td>\n",
       "      <td>RT @CBS_Herridge: READ: Letter to surveillance...</td>\n",
       "      <td>t</td>\n",
       "      <td>f</td>\n",
       "      <td>Twitter for iPhone</td>\n",
       "      <td>0</td>\n",
       "      <td>7396</td>\n",
       "      <td>2020-01-17 03:22:47</td>\n",
       "      <td>f</td>\n",
       "    </tr>\n",
       "    <tr>\n",
       "      <th>3</th>\n",
       "      <td>1304875170860015617</td>\n",
       "      <td>The Unsolicited Mail In Ballot Scam is a major...</td>\n",
       "      <td>f</td>\n",
       "      <td>f</td>\n",
       "      <td>Twitter for iPhone</td>\n",
       "      <td>80527</td>\n",
       "      <td>23502</td>\n",
       "      <td>2020-09-12 20:10:58</td>\n",
       "      <td>f</td>\n",
       "    </tr>\n",
       "    <tr>\n",
       "      <th>4</th>\n",
       "      <td>1218159531554897920</td>\n",
       "      <td>RT @MZHemingway: Very friendly telling of even...</td>\n",
       "      <td>t</td>\n",
       "      <td>f</td>\n",
       "      <td>Twitter for iPhone</td>\n",
       "      <td>0</td>\n",
       "      <td>9081</td>\n",
       "      <td>2020-01-17 13:13:59</td>\n",
       "      <td>f</td>\n",
       "    </tr>\n",
       "    <tr>\n",
       "      <th>...</th>\n",
       "      <td>...</td>\n",
       "      <td>...</td>\n",
       "      <td>...</td>\n",
       "      <td>...</td>\n",
       "      <td>...</td>\n",
       "      <td>...</td>\n",
       "      <td>...</td>\n",
       "      <td>...</td>\n",
       "      <td>...</td>\n",
       "    </tr>\n",
       "    <tr>\n",
       "      <th>56566</th>\n",
       "      <td>1319485303363571714</td>\n",
       "      <td>RT @RandPaul: I don’t know why @JoeBiden think...</td>\n",
       "      <td>t</td>\n",
       "      <td>f</td>\n",
       "      <td>Twitter for iPhone</td>\n",
       "      <td>0</td>\n",
       "      <td>20683</td>\n",
       "      <td>2020-10-23 03:46:25</td>\n",
       "      <td>f</td>\n",
       "    </tr>\n",
       "    <tr>\n",
       "      <th>56567</th>\n",
       "      <td>1319484210101379072</td>\n",
       "      <td>RT @EliseStefanik: President @realDonaldTrump ...</td>\n",
       "      <td>t</td>\n",
       "      <td>f</td>\n",
       "      <td>Twitter for iPhone</td>\n",
       "      <td>0</td>\n",
       "      <td>9869</td>\n",
       "      <td>2020-10-23 03:42:05</td>\n",
       "      <td>f</td>\n",
       "    </tr>\n",
       "    <tr>\n",
       "      <th>56568</th>\n",
       "      <td>1319444420861829121</td>\n",
       "      <td>RT @TeamTrump: LIVE: Presidential Debate #Deba...</td>\n",
       "      <td>t</td>\n",
       "      <td>f</td>\n",
       "      <td>Twitter for iPhone</td>\n",
       "      <td>0</td>\n",
       "      <td>8197</td>\n",
       "      <td>2020-10-23 01:03:58</td>\n",
       "      <td>f</td>\n",
       "    </tr>\n",
       "    <tr>\n",
       "      <th>56569</th>\n",
       "      <td>1319384118849949702</td>\n",
       "      <td>Just signed an order to support the workers of...</td>\n",
       "      <td>f</td>\n",
       "      <td>f</td>\n",
       "      <td>Twitter for iPhone</td>\n",
       "      <td>176289</td>\n",
       "      <td>36001</td>\n",
       "      <td>2020-10-22 21:04:21</td>\n",
       "      <td>f</td>\n",
       "    </tr>\n",
       "    <tr>\n",
       "      <th>56570</th>\n",
       "      <td>1319345719829008387</td>\n",
       "      <td>Suburban women want Safety &amp;amp; Security. Joe...</td>\n",
       "      <td>f</td>\n",
       "      <td>f</td>\n",
       "      <td>Twitter for iPhone</td>\n",
       "      <td>95169</td>\n",
       "      <td>19545</td>\n",
       "      <td>2020-10-22 18:31:46</td>\n",
       "      <td>f</td>\n",
       "    </tr>\n",
       "  </tbody>\n",
       "</table>\n",
       "<p>56571 rows × 9 columns</p>\n",
       "</div>"
      ]
     },
     "execution_count": 67,
     "metadata": {},
     "output_type": "execute_result"
    }
   ],
   "execution_count": 67
  },
  {
   "metadata": {
    "ExecuteTime": {
     "end_time": "2024-05-19T20:00:33.559805Z",
     "start_time": "2024-05-19T20:00:33.551780Z"
    }
   },
   "cell_type": "code",
   "source": [
    "tweetsMaisRts = dfTweets.nlargest(5, 'retweets')\n",
    "tweetsMaisRts = tweetsMaisRts['text']\n",
    "tweetsMaisRts"
   ],
   "outputs": [
    {
     "data": {
      "text/plain": [
       "11759    Tonight, @FLOTUS and I tested positive for COV...\n",
       "35620           #FraudNewsCNN #FNN https://t.co/WYUnHjjUjg\n",
       "39347                   TODAY WE MAKE AMERICA GREAT AGAIN!\n",
       "29598    Are you allowed to impeach a president for gro...\n",
       "9080          RT @SpaceX: Liftoff! https://t.co/DRBfdUM7JA\n",
       "Name: text, dtype: object"
      ]
     },
     "execution_count": 71,
     "metadata": {},
     "output_type": "execute_result"
    }
   ],
   "execution_count": 71
  },
  {
   "metadata": {
    "ExecuteTime": {
     "end_time": "2024-05-19T20:01:19.576694Z",
     "start_time": "2024-05-19T20:01:19.569754Z"
    }
   },
   "cell_type": "code",
   "source": [
    "tweetsMaisRts_prep = tweetsMaisRts\n",
    "\n",
    "# Remover URLS\n",
    "url_pattern = r'http[s]?://\\S+'\n",
    "tweetsMaisRts_prep= tweetsMaisRts_prep[~tweetsMaisRts.str.match(url_pattern)]\n",
    "tweetsMaisRts_prep = tweetsMaisRts_prep.apply(lambda x: re.sub(url_pattern, '', x))\n",
    "\n",
    "# Converter para minúsculo\n",
    "tweetsMaisRts_prep = tweetsMaisRts_prep.str.lower()\n",
    "\n",
    "# remover pontuação\n",
    "PONTUACAO = string.punctuation\n",
    "def remove_pontuacao(text):\n",
    "    return text.translate(str.maketrans('', '', PONTUACAO))\n",
    "\n",
    "tweetsMaisRts_prep = tweetsMaisRts_prep.apply(lambda text: remove_pontuacao(text))\n",
    "\n",
    "# Remover stop words\n",
    "from nltk.corpus import stopwords\n",
    "\n",
    "STOPWORDS = set(stopwords.words('english'))\n",
    "def remove_stopwords(text):\n",
    "    return \" \".join([word for word in str(text).split() if word not in STOPWORDS])\n",
    "\n",
    "tweetsMaisRts_prep = tweetsMaisRts_prep.apply(lambda text: remove_stopwords(text))\n",
    "\n",
    "# Stemming\n",
    "from nltk.stem.porter import PorterStemmer\n",
    "\n",
    "stemmer = PorterStemmer()\n",
    "def stem_words(text):\n",
    "    return \" \".join([stemmer.stem(word) for word in text.split()])\n",
    "\n",
    "tweetsMaisRts_prep = tweetsMaisRts_prep.apply(lambda text: stem_words(text))\n",
    "\n",
    "tweetsMaisRts_prep"
   ],
   "outputs": [
    {
     "data": {
      "text/plain": [
       "11759    tonight flotu test posit covid19 begin quarant...\n",
       "35620                                     fraudnewscnn fnn\n",
       "39347                             today make america great\n",
       "29598                  allow impeach presid gross incompet\n",
       "9080                                     rt spacex liftoff\n",
       "Name: text, dtype: object"
      ]
     },
     "execution_count": 73,
     "metadata": {},
     "output_type": "execute_result"
    }
   ],
   "execution_count": 73
  },
  {
   "metadata": {
    "ExecuteTime": {
     "end_time": "2024-05-19T20:01:49.222551Z",
     "start_time": "2024-05-19T20:01:49.215723Z"
    }
   },
   "cell_type": "code",
   "source": [
    "from nltk.sentiment import SentimentIntensityAnalyzer\n",
    "\n",
    "sent = SentimentIntensityAnalyzer()\n",
    "\n",
    "print(\"Sem pre-processamento\")\n",
    "for i in tweetsMaisRts:\n",
    "    print(i)\n",
    "    print(sent.polarity_scores(i))\n",
    "    \n",
    "print(\"\\nCom pre-processamento\")\n",
    "for i in tweetsMaisRts_prep:\n",
    "    print(i)\n",
    "    print(sent.polarity_scores(i))"
   ],
   "outputs": [
    {
     "name": "stdout",
     "output_type": "stream",
     "text": [
      "Sem pre-processamento\n",
      "Tonight, @FLOTUS and I tested positive for COVID-19. We will begin our quarantine and recovery process immediately. We will get through this TOGETHER!\n",
      "{'neg': 0.0, 'neu': 0.844, 'pos': 0.156, 'compound': 0.5983}\n",
      "#FraudNewsCNN #FNN https://t.co/WYUnHjjUjg\n",
      "{'neg': 0.0, 'neu': 1.0, 'pos': 0.0, 'compound': 0.0}\n",
      "TODAY WE MAKE AMERICA GREAT AGAIN!\n",
      "{'neg': 0.0, 'neu': 0.532, 'pos': 0.468, 'compound': 0.6588}\n",
      "Are you allowed to impeach a president for gross incompetence?\n",
      "{'neg': 0.478, 'neu': 0.522, 'pos': 0.0, 'compound': -0.7506}\n",
      "RT @SpaceX: Liftoff! https://t.co/DRBfdUM7JA\n",
      "{'neg': 0.0, 'neu': 1.0, 'pos': 0.0, 'compound': 0.0}\n",
      "\n",
      "Com pre-processamento\n",
      "tonight flotu test posit covid19 begin quarantin recoveri process immedi get togeth\n",
      "{'neg': 0.0, 'neu': 1.0, 'pos': 0.0, 'compound': 0.0}\n",
      "fraudnewscnn fnn\n",
      "{'neg': 0.0, 'neu': 1.0, 'pos': 0.0, 'compound': 0.0}\n",
      "today make america great\n",
      "{'neg': 0.0, 'neu': 0.423, 'pos': 0.577, 'compound': 0.6249}\n",
      "allow impeach presid gross incompet\n",
      "{'neg': 0.388, 'neu': 0.375, 'pos': 0.237, 'compound': -0.296}\n",
      "rt spacex liftoff\n",
      "{'neg': 0.0, 'neu': 1.0, 'pos': 0.0, 'compound': 0.0}\n"
     ]
    }
   ],
   "execution_count": 75
  },
  {
   "metadata": {
    "ExecuteTime": {
     "end_time": "2024-05-19T20:08:05.198401Z",
     "start_time": "2024-05-19T20:07:59.567689Z"
    }
   },
   "cell_type": "code",
   "source": [
    "resultados = []\n",
    "\n",
    "for tweet in dfTweets['text']:\n",
    "    polaridade = sent.polarity_scores(tweet)\n",
    "    polaridade['tweet'] = tweet\n",
    "    resultados.append(polaridade)\n",
    "\n",
    "# Convertendo a lista de resultados para um DataFrame\n",
    "df = pd.DataFrame(resultados)"
   ],
   "outputs": [],
   "execution_count": 84
  },
  {
   "metadata": {
    "ExecuteTime": {
     "end_time": "2024-05-19T20:08:05.906994Z",
     "start_time": "2024-05-19T20:08:05.832141Z"
    }
   },
   "cell_type": "code",
   "source": [
    "import matplotlib.pyplot as plt\n",
    "# Plotando o histograma da pontuação de polaridade composta\n",
    "plt.figure(figsize=(10, 6))\n",
    "plt.hist(df['compound'], bins=20, color='blue', edgecolor='black')\n",
    "plt.title('Distribuição de Polaridade dos Tweets')\n",
    "plt.xlabel('Pontuação de Polaridade Composta')\n",
    "plt.ylabel('Frequência')\n",
    "plt.show()"
   ],
   "outputs": [
    {
     "data": {
      "text/plain": [
       "<Figure size 1000x600 with 1 Axes>"
      ],
      "image/png": "[encoded data removed]"
     },
     "metadata": {},
     "output_type": "display_data"
    }
   ],
   "execution_count": 85
  },
  {
   "metadata": {},
   "cell_type": "markdown",
   "source": [
    "É possível ver que a polaridade dos tweets tende a ser mais positiva que negativa, se vê uma grande concentração de tweets com polaridade neutra, pode ser devido a grande quantidade de retweets sem muito conteúdo agregado pelo autor.\n",
    "Também foi experimentado com pré-processamento mas o resultado foi muito similar."
   ]
  }
 ],
 "metadata": {
  "kernelspec": {
   "display_name": "Python 3 (ipykernel)",
   "language": "python",
   "name": "python3"
  },
  "language_info": {
   "codemirror_mode": {
    "name": "ipython",
    "version": 3
   },
   "file_extension": ".py",
   "mimetype": "text/x-python",
   "name": "python",
   "nbconvert_exporter": "python",
   "pygments_lexer": "ipython3",
   "version": "3.8.3"
  }
 },
 "nbformat": 4,
 "nbformat_minor": 4
}
